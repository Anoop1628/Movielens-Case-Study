{
 "cells": [
  {
   "cell_type": "markdown",
   "id": "4db9efaa",
   "metadata": {},
   "source": [
    "# Project 3: Movielens Case Study"
   ]
  },
  {
   "cell_type": "code",
   "execution_count": 11,
   "id": "6782d8af",
   "metadata": {},
   "outputs": [],
   "source": [
    "#import required libraries\n",
    "import pandas as pd\n",
    "import numpy as np\n",
    "import matplotlib.pyplot as plt\n",
    "%matplotlib inline\n",
    "import seaborn as sns\n",
    "import warnings\n",
    "from sklearn.model_selection import train_test_split\n",
    "from sklearn import metrics\n",
    "from sklearn.tree import DecisionTreeClassifier\n",
    "from sklearn.naive_bayes import GaussianNB\n",
    "from sklearn.linear_model import LogisticRegression\n",
    "from sklearn.svm import SVC, LinearSVC\n",
    "from sklearn.ensemble import RandomForestClassifier\n",
    "from sklearn.neighbors import KNeighborsClassifier\n",
    "from sklearn.linear_model import Perceptron\n",
    "from sklearn.linear_model import SGDClassifier"
   ]
  },
  {
   "cell_type": "markdown",
   "id": "3f9b919c",
   "metadata": {},
   "source": [
    "### Import three data set"
   ]
  },
  {
   "cell_type": "code",
   "execution_count": 12,
   "id": "bf05586b",
   "metadata": {},
   "outputs": [],
   "source": [
    "warnings.simplefilter('ignore')\n",
    "movies_data = pd.read_csv(\"movies.dat\",\n",
    "                       sep=\"::\", header=None, names=['MovieID','Title','Genres'], \n",
    "                       dtype={'MovieID': np.int32, 'Title': np.str, 'Genres': np.str}, engine='python',encoding='ISO-8859-1')\n",
    "users_data = pd.read_csv(\"users.dat\",\n",
    "                       sep=\"::\", header=None, names=['UserID','Gender','Age','Occupation','Zip-code'], \n",
    "    dtype={'UserID': np.int32, 'Gender': np.str, 'Age': np.int32, 'Occupation' : np.int32, 'Zip-code' : np.str}, engine='python')\n",
    "ratings_data = pd.read_csv(\"ratings.dat\",\n",
    "                       sep=\"::\", header=None, names=['UserID','MovieID','Rating','Timestamp'], \n",
    "                dtype={'UserID': np.int32, 'MovieID': np.int32, 'Rating': np.int32, 'Timestamp' : np.str}, engine='python')"
   ]
  },
  {
   "cell_type": "markdown",
   "id": "fe07831f",
   "metadata": {},
   "source": [
    "### Merging the three datasets"
   ]
  },
  {
   "cell_type": "code",
   "execution_count": 13,
   "id": "7c525094",
   "metadata": {},
   "outputs": [],
   "source": [
    "ratings_movie = pd.merge(movies_data,ratings_data,how='inner',on=['MovieID'])"
   ]
  },
  {
   "cell_type": "code",
   "execution_count": 14,
   "id": "f82c8927",
   "metadata": {},
   "outputs": [],
   "source": [
    "ratings_user = pd.merge(ratings_movie,users_data,how='inner',on=['UserID'])"
   ]
  },
  {
   "cell_type": "code",
   "execution_count": 15,
   "id": "1e909439",
   "metadata": {},
   "outputs": [
    {
     "data": {
      "text/html": [
       "<div>\n",
       "<style scoped>\n",
       "    .dataframe tbody tr th:only-of-type {\n",
       "        vertical-align: middle;\n",
       "    }\n",
       "\n",
       "    .dataframe tbody tr th {\n",
       "        vertical-align: top;\n",
       "    }\n",
       "\n",
       "    .dataframe thead th {\n",
       "        text-align: right;\n",
       "    }\n",
       "</style>\n",
       "<table border=\"1\" class=\"dataframe\">\n",
       "  <thead>\n",
       "    <tr style=\"text-align: right;\">\n",
       "      <th></th>\n",
       "      <th>MovieID</th>\n",
       "      <th>Title</th>\n",
       "      <th>UserID</th>\n",
       "      <th>Age</th>\n",
       "      <th>Gender</th>\n",
       "      <th>Occupation</th>\n",
       "      <th>Rating</th>\n",
       "    </tr>\n",
       "  </thead>\n",
       "  <tbody>\n",
       "    <tr>\n",
       "      <th>0</th>\n",
       "      <td>1</td>\n",
       "      <td>Toy Story (1995)</td>\n",
       "      <td>1</td>\n",
       "      <td>1</td>\n",
       "      <td>F</td>\n",
       "      <td>10</td>\n",
       "      <td>5</td>\n",
       "    </tr>\n",
       "    <tr>\n",
       "      <th>1</th>\n",
       "      <td>48</td>\n",
       "      <td>Pocahontas (1995)</td>\n",
       "      <td>1</td>\n",
       "      <td>1</td>\n",
       "      <td>F</td>\n",
       "      <td>10</td>\n",
       "      <td>5</td>\n",
       "    </tr>\n",
       "    <tr>\n",
       "      <th>2</th>\n",
       "      <td>150</td>\n",
       "      <td>Apollo 13 (1995)</td>\n",
       "      <td>1</td>\n",
       "      <td>1</td>\n",
       "      <td>F</td>\n",
       "      <td>10</td>\n",
       "      <td>5</td>\n",
       "    </tr>\n",
       "    <tr>\n",
       "      <th>3</th>\n",
       "      <td>260</td>\n",
       "      <td>Star Wars: Episode IV - A New Hope (1977)</td>\n",
       "      <td>1</td>\n",
       "      <td>1</td>\n",
       "      <td>F</td>\n",
       "      <td>10</td>\n",
       "      <td>4</td>\n",
       "    </tr>\n",
       "    <tr>\n",
       "      <th>4</th>\n",
       "      <td>527</td>\n",
       "      <td>Schindler's List (1993)</td>\n",
       "      <td>1</td>\n",
       "      <td>1</td>\n",
       "      <td>F</td>\n",
       "      <td>10</td>\n",
       "      <td>5</td>\n",
       "    </tr>\n",
       "  </tbody>\n",
       "</table>\n",
       "</div>"
      ],
      "text/plain": [
       "   MovieID                                      Title  UserID  Age Gender  \\\n",
       "0        1                           Toy Story (1995)       1    1      F   \n",
       "1       48                          Pocahontas (1995)       1    1      F   \n",
       "2      150                           Apollo 13 (1995)       1    1      F   \n",
       "3      260  Star Wars: Episode IV - A New Hope (1977)       1    1      F   \n",
       "4      527                    Schindler's List (1993)       1    1      F   \n",
       "\n",
       "   Occupation  Rating  \n",
       "0          10       5  \n",
       "1          10       5  \n",
       "2          10       5  \n",
       "3          10       4  \n",
       "4          10       5  "
      ]
     },
     "execution_count": 15,
     "metadata": {},
     "output_type": "execute_result"
    }
   ],
   "source": [
    "master_data = ratings_user[['MovieID','Title','UserID','Age','Gender','Occupation','Rating']]\n",
    "master_data.head()"
   ]
  },
  {
   "cell_type": "code",
   "execution_count": 16,
   "id": "dee035b4",
   "metadata": {},
   "outputs": [
    {
     "name": "stdout",
     "output_type": "stream",
     "text": [
      "<class 'pandas.core.frame.DataFrame'>\n",
      "Int64Index: 1000209 entries, 0 to 1000208\n",
      "Data columns (total 7 columns):\n",
      " #   Column      Non-Null Count    Dtype \n",
      "---  ------      --------------    ----- \n",
      " 0   MovieID     1000209 non-null  int32 \n",
      " 1   Title       1000209 non-null  object\n",
      " 2   UserID      1000209 non-null  int32 \n",
      " 3   Age         1000209 non-null  int32 \n",
      " 4   Gender      1000209 non-null  object\n",
      " 5   Occupation  1000209 non-null  int32 \n",
      " 6   Rating      1000209 non-null  int32 \n",
      "dtypes: int32(5), object(2)\n",
      "memory usage: 42.0+ MB\n"
     ]
    }
   ],
   "source": [
    "master_data.info()"
   ]
  },
  {
   "cell_type": "code",
   "execution_count": 17,
   "id": "0a64d654",
   "metadata": {},
   "outputs": [
    {
     "data": {
      "text/plain": [
       "0"
      ]
     },
     "execution_count": 17,
     "metadata": {},
     "output_type": "execute_result"
    }
   ],
   "source": [
    "master_data.duplicated().sum()"
   ]
  },
  {
   "cell_type": "markdown",
   "id": "3cddbecc",
   "metadata": {},
   "source": [
    "# Explore the datasets using visual representations (graphs or tables), also include your comments on the following:\n",
    "## 1. User Age Distribution"
   ]
  },
  {
   "cell_type": "code",
   "execution_count": 19,
   "id": "69b25a93",
   "metadata": {},
   "outputs": [
    {
     "data": {
      "text/html": [
       "<div>\n",
       "<style scoped>\n",
       "    .dataframe tbody tr th:only-of-type {\n",
       "        vertical-align: middle;\n",
       "    }\n",
       "\n",
       "    .dataframe tbody tr th {\n",
       "        vertical-align: top;\n",
       "    }\n",
       "\n",
       "    .dataframe thead th {\n",
       "        text-align: right;\n",
       "    }\n",
       "</style>\n",
       "<table border=\"1\" class=\"dataframe\">\n",
       "  <thead>\n",
       "    <tr style=\"text-align: right;\">\n",
       "      <th></th>\n",
       "      <th>Age</th>\n",
       "    </tr>\n",
       "  </thead>\n",
       "  <tbody>\n",
       "    <tr>\n",
       "      <th>1</th>\n",
       "      <td>27211</td>\n",
       "    </tr>\n",
       "    <tr>\n",
       "      <th>18</th>\n",
       "      <td>183536</td>\n",
       "    </tr>\n",
       "    <tr>\n",
       "      <th>25</th>\n",
       "      <td>395556</td>\n",
       "    </tr>\n",
       "    <tr>\n",
       "      <th>35</th>\n",
       "      <td>199003</td>\n",
       "    </tr>\n",
       "    <tr>\n",
       "      <th>45</th>\n",
       "      <td>83633</td>\n",
       "    </tr>\n",
       "    <tr>\n",
       "      <th>50</th>\n",
       "      <td>72490</td>\n",
       "    </tr>\n",
       "    <tr>\n",
       "      <th>56</th>\n",
       "      <td>38780</td>\n",
       "    </tr>\n",
       "  </tbody>\n",
       "</table>\n",
       "</div>"
      ],
      "text/plain": [
       "       Age\n",
       "1    27211\n",
       "18  183536\n",
       "25  395556\n",
       "35  199003\n",
       "45   83633\n",
       "50   72490\n",
       "56   38780"
      ]
     },
     "execution_count": 19,
     "metadata": {},
     "output_type": "execute_result"
    }
   ],
   "source": [
    "age_dist=master_data['Age'].value_counts().to_frame()\n",
    "age_dist.sort_index(inplace=True)\n",
    "age_dist"
   ]
  },
  {
   "cell_type": "code",
   "execution_count": 20,
   "id": "c8f9fb7f",
   "metadata": {},
   "outputs": [
    {
     "data": {
      "image/png": "[encoded data removed]",
      "text/plain": [
       "<Figure size 576x288 with 1 Axes>"
      ]
     },
     "metadata": {
      "needs_background": "light"
     },
     "output_type": "display_data"
    }
   ],
   "source": [
    "plt.figure(figsize=(8,4))\n",
    "txt={'weight':'bold'}\n",
    "sns.set_style('white')\n",
    "sns.countplot(x='Age',data=master_data,palette=\"terrain\")\n",
    "plt.title('User Age Distribution',fontdict=txt)\n",
    "plt.xlabel(\"Age (range)\",fontdict=txt, labelpad=15)\n",
    "plt.ylabel(\"Number of Users\",fontdict=txt, labelpad=25)\n",
    "plt.xticks([0,1,2,3,4,5,6],[\"Under 18\",\"18-24\",\"25-34\",\"35-44\",\"45-49\",\"50-55\",\"56+\"])\n",
    "for i in range(7):\n",
    "    plt.annotate(age_dist['Age'].iloc[i],xy=(i-0.2,age_dist['Age'].iloc[i]+5000),size=10)\n",
    "plt.show()"
   ]
  },
  {
   "cell_type": "markdown",
   "id": "71583395",
   "metadata": {},
   "source": [
    "#### Comment : Most of the users are between the age 25-34"
   ]
  },
  {
   "cell_type": "markdown",
   "id": "80848740",
   "metadata": {},
   "source": [
    "## 2. User rating of the movie “Toy Story”"
   ]
  },
  {
   "cell_type": "code",
   "execution_count": null,
   "id": "9832abcc",
   "metadata": {},
   "outputs": [],
   "source": [
    "ts_df = master_data[master_data['Title'] == \"Toy Story (1995)\"]\n",
    "ts_rating = ts_df['Rating'].value_counts()\n",
    "ts_rating"
   ]
  },
  {
   "cell_type": "code",
   "execution_count": null,
   "id": "313a5971",
   "metadata": {},
   "outputs": [],
   "source": [
    "plt.figure(figsize=(8,8))\n",
    "txt={'weight':'bold','size':14}\n",
    "cmap = plt.get_cmap('terrain')\n",
    "colors = ['#ff9999','#66b3ff','#99ff99','#ffcc09','#c2c2f0']\n",
    "labels = ['Rating 4','Rating 5','Rating 3','Rating 2','Rating 1']\n",
    "plt.title(\"User Rating of Movie Toy Story\", fontdict=txt)\n",
    "plt.pie(ts_rating, labels=labels, wedgeprops={'linewidth':7,'edgecolor':'white'},autopct=\"%.1f%%\",textprops=txt,colors=colors)\n",
    "my_circle=plt.Circle((0,0),0.7,color='white')\n",
    "p=plt.gcf()\n",
    "p.gca().add_artist(my_circle) \n",
    "plt.show()"
   ]
  },
  {
   "cell_type": "markdown",
   "id": "1cfe1139",
   "metadata": {},
   "source": [
    "### Comment : Most of the users gaves the rating of 4 followed by rating 5"
   ]
  },
  {
   "cell_type": "markdown",
   "id": "3f71dc15",
   "metadata": {},
   "source": [
    "## 3. Top 25 movies by viewership rating"
   ]
  },
  {
   "cell_type": "code",
   "execution_count": null,
   "id": "166ce049",
   "metadata": {},
   "outputs": [],
   "source": [
    "tm_df=pd.DataFrame(master_data.groupby('Title')['Rating'].agg('mean')).sort_values(by='Rating',ascending=False).head(25)\n",
    "tm_df['Title']=tm_df.index\n",
    "tm_df.index=range(1,26)\n",
    "tm_df[['Title','Rating']]"
   ]
  },
  {
   "cell_type": "markdown",
   "id": "5de3a01b",
   "metadata": {},
   "source": [
    "### Comment : Top 10 movies are got the Rating of 5"
   ]
  },
  {
   "cell_type": "markdown",
   "id": "02a7e80f",
   "metadata": {},
   "source": [
    "## 4. Find the ratings for all the movies reviewed by for a particular user of user id = 2696"
   ]
  },
  {
   "cell_type": "code",
   "execution_count": null,
   "id": "a1e144de",
   "metadata": {},
   "outputs": [],
   "source": [
    "uid_2696=master_data[master_data['UserID']==2696]\n",
    "uid_2696 = uid_2696.sort_values('Rating',ascending=False,ignore_index=True)\n",
    "uid_2696[['MovieID','Rating','Title']]"
   ]
  },
  {
   "cell_type": "code",
   "execution_count": null,
   "id": "4267a4b3",
   "metadata": {},
   "outputs": [],
   "source": [
    "plt.scatter(x=uid_2696['MovieID'],y=uid_2696['Rating'])\n",
    "plt.title('Movies Reviwed By UserID 2696')\n",
    "plt.show()"
   ]
  },
  {
   "cell_type": "markdown",
   "id": "6223492b",
   "metadata": {},
   "source": [
    "### Comment : Most of his ratings are 4 and this user has rated 5 to the movie titled \"Lone Star (1996)\""
   ]
  },
  {
   "cell_type": "markdown",
   "id": "8ef940d8",
   "metadata": {},
   "source": [
    "# Feature Engineering:\n",
    "## 1. Find out all the unique genres (Hint: split the data in column genre making a list and then process the data to find out only the unique categories of genres)"
   ]
  },
  {
   "cell_type": "code",
   "execution_count": null,
   "id": "ca99471e",
   "metadata": {},
   "outputs": [],
   "source": [
    "# Storing Generes column to a variable names genre\n",
    "genre = ratings_user['Genres']\n",
    "genre.head()"
   ]
  },
  {
   "cell_type": "code",
   "execution_count": null,
   "id": "3dcc2c3d",
   "metadata": {},
   "outputs": [],
   "source": [
    "# For loop to store the splitted genre data and append to list\n",
    "list1=[]\n",
    "for row in genre:\n",
    "    row_list = row.split(\"|\")\n",
    "    for i in range(len(row_list)):\n",
    "        list1.append(row_list[i])"
   ]
  },
  {
   "cell_type": "code",
   "execution_count": null,
   "id": "7ada95ed",
   "metadata": {},
   "outputs": [],
   "source": [
    "# Finding unique genres and number of unique genres\n",
    "unique_genre = list(set(list1))\n",
    "print(unique_genre)\n",
    "print()\n",
    "print(\"Total Unique Genres :\",len(unique_genre))"
   ]
  },
  {
   "cell_type": "markdown",
   "id": "d171c3ee",
   "metadata": {},
   "source": [
    "## 2. Create a separate column for each genre category with a one-hot encoding ( 1 and 0) whether or not the movie belongs to that genre. "
   ]
  },
  {
   "cell_type": "code",
   "execution_count": null,
   "id": "4c75ac12",
   "metadata": {},
   "outputs": [],
   "source": [
    "# Creating a new variable onehotcode to perform onehotencoding\n",
    "onehotcode = ratings_user.copy()\n",
    "onehotcode.head(3)"
   ]
  },
  {
   "cell_type": "code",
   "execution_count": null,
   "id": "f363f074",
   "metadata": {
    "scrolled": true
   },
   "outputs": [],
   "source": [
    "# Converting categorical variable to numerical variable\n",
    "dummy = onehotcode['Genres'].str.get_dummies()\n",
    "dummy.head(3)"
   ]
  },
  {
   "cell_type": "code",
   "execution_count": null,
   "id": "f3e38f1e",
   "metadata": {},
   "outputs": [],
   "source": [
    "# Merging the final dataset with newly created onehotcode based on index\n",
    "final_ds=pd.merge(onehotcode,dummy,how='inner',left_index=True,right_index=True)\n",
    "final_ds.head(3)"
   ]
  },
  {
   "cell_type": "markdown",
   "id": "bb3cf890",
   "metadata": {},
   "source": [
    "## 3. Determine the features affecting the ratings of any particular movie."
   ]
  },
  {
   "cell_type": "code",
   "execution_count": null,
   "id": "03c2f215",
   "metadata": {},
   "outputs": [],
   "source": [
    "# Converting categorical column \"Gender\" into numerical column\n",
    "gender_dummy = final_ds['Gender'].str.get_dummies()"
   ]
  },
  {
   "cell_type": "code",
   "execution_count": null,
   "id": "c1408fa7",
   "metadata": {},
   "outputs": [],
   "source": [
    "# Merging the new numerical column to final dataset based on index\n",
    "final_ds = pd.merge(final_ds,gender_dummy,how='inner',left_index=True,right_index=True)\n",
    "final_ds.head(3)"
   ]
  },
  {
   "cell_type": "code",
   "execution_count": null,
   "id": "00f738a8",
   "metadata": {},
   "outputs": [],
   "source": [
    "# Heatmap\n",
    "m = np.ones_like(final_ds[['MovieID','UserID','Timestamp','Age','F','M','Occupation','Rating']].corr())\n",
    "m[np.tril_indices_from(m)]=0\n",
    "sns.set_style(\"white\")\n",
    "plt.figure(figsize=(8,8))\n",
    "sns.heatmap(final_ds[['MovieID','UserID','Timestamp','Age','F','M','Occupation','Rating']].corr(),annot=True,cmap=\"Set3\",mask=m)\n",
    "plt.show()"
   ]
  },
  {
   "cell_type": "code",
   "execution_count": null,
   "id": "2f367925",
   "metadata": {},
   "outputs": [],
   "source": [
    "# Creating a new dataframe with only continous data and dummies\n",
    "features = final_ds[['MovieID','UserID','F','M','Timestamp','Age','Occupation','Action','Adventure','Animation',\"Children's\",'Comedy','Crime','Documentary','Drama','Fantasy','Film-Noir','Horror','Musical','Mystery','Romance','Sci-Fi','Thriller','War','Western','Rating']]                       "
   ]
  },
  {
   "cell_type": "code",
   "execution_count": null,
   "id": "3a94302f",
   "metadata": {},
   "outputs": [],
   "source": [
    "# Storing features and target variable\n",
    "x = features.drop(['Rating'],axis=1)\n",
    "y = features['Rating']"
   ]
  },
  {
   "cell_type": "code",
   "execution_count": null,
   "id": "83e58a0d",
   "metadata": {},
   "outputs": [],
   "source": [
    "from sklearn.feature_selection import SelectKBest\n",
    "from sklearn.feature_selection import chi2"
   ]
  },
  {
   "cell_type": "code",
   "execution_count": null,
   "id": "9fe9a94b",
   "metadata": {},
   "outputs": [],
   "source": [
    "# Selecting best 10 features\n",
    "bestfeatures = SelectKBest(score_func=chi2, k=10)\n",
    "fit = bestfeatures.fit(x,y)\n",
    "dfscores = pd.DataFrame(fit.scores_)\n",
    "dfcolumns = pd.DataFrame(x.columns)\n",
    "featureScores = pd.concat([dfcolumns,dfscores],axis=1)\n",
    "featureScores.columns = ['Features','Score']\n",
    "print(featureScores.nlargest(10,'Score'))"
   ]
  },
  {
   "cell_type": "code",
   "execution_count": null,
   "id": "faa5df59",
   "metadata": {},
   "outputs": [],
   "source": [
    "# Store feature selection in DataFrame\n",
    "feature_df = features[['Timestamp','MovieID','UserID','Age','Drama','Horror','War','Film-Noir','Sci-Fi','Action']]\n",
    "feature_df"
   ]
  },
  {
   "cell_type": "markdown",
   "id": "f50eccc4",
   "metadata": {},
   "source": [
    "## 4. Develop an appropriate model to predict the movie ratings"
   ]
  },
  {
   "cell_type": "code",
   "execution_count": null,
   "id": "00e10d65",
   "metadata": {},
   "outputs": [],
   "source": [
    "# First 500 Extracted Records\n",
    "f_500=master_data[:1000]\n",
    "f_500"
   ]
  },
  {
   "cell_type": "code",
   "execution_count": null,
   "id": "75c7bb4c",
   "metadata": {},
   "outputs": [],
   "source": [
    "features = f_500[['MovieID','Age','Occupation']].values\n",
    "labels = f_500[['Rating']].values"
   ]
  },
  {
   "cell_type": "code",
   "execution_count": null,
   "id": "3d0d2874",
   "metadata": {},
   "outputs": [],
   "source": [
    "train, test, train_labels, test_labels = train_test_split(features,labels,test_size=0.33,random_state=42)"
   ]
  },
  {
   "cell_type": "code",
   "execution_count": null,
   "id": "a1110ef1",
   "metadata": {},
   "outputs": [],
   "source": [
    "# Gaussian Naive Bayes\n",
    "gaussian = GaussianNB()\n",
    "gaussian.fit(train, train_labels)\n",
    "Y_pred = gaussian.predict(test)\n",
    "acc_gaussian = round(gaussian.score(train, train_labels) * 100, 2)\n",
    "acc_gaussian"
   ]
  },
  {
   "cell_type": "code",
   "execution_count": null,
   "id": "7c195a9d",
   "metadata": {},
   "outputs": [],
   "source": [
    "# Decision Tree\n",
    "decision_tree = DecisionTreeClassifier()\n",
    "decision_tree.fit(train, train_labels)\n",
    "Y_pred = decision_tree.predict(test)\n",
    "acc_decision_tree = round(decision_tree.score(train, train_labels) * 100, 2)\n",
    "acc_decision_tree"
   ]
  },
  {
   "cell_type": "code",
   "execution_count": null,
   "id": "074562dc",
   "metadata": {},
   "outputs": [],
   "source": [
    "# Logistic Regression\n",
    "logreg = LogisticRegression()\n",
    "logreg.fit(train, train_labels)\n",
    "Y_pred = logreg.predict(test)\n",
    "acc_log = round(logreg.score(train, train_labels) * 100, 2)\n",
    "acc_log"
   ]
  },
  {
   "cell_type": "code",
   "execution_count": null,
   "id": "4e842acb",
   "metadata": {},
   "outputs": [],
   "source": [
    "# Support Vector Machines\n",
    "svc = SVC()\n",
    "svc.fit(train, train_labels)\n",
    "Y_pred = svc.predict(test)\n",
    "acc_svc = round(svc.score(train, train_labels) * 100, 2)\n",
    "acc_svc"
   ]
  },
  {
   "cell_type": "code",
   "execution_count": null,
   "id": "51bb2181",
   "metadata": {},
   "outputs": [],
   "source": [
    "# K Nearest Neighbors Classifier\n",
    "knn = KNeighborsClassifier(n_neighbors = 3)\n",
    "knn.fit(train, train_labels)\n",
    "Y_pred = knn.predict(test)\n",
    "acc_knn = round(knn.score(train, train_labels) * 100, 2)\n",
    "acc_knn"
   ]
  },
  {
   "cell_type": "code",
   "execution_count": null,
   "id": "bec5f834",
   "metadata": {},
   "outputs": [],
   "source": [
    "# Perceptron\n",
    "perceptron = Perceptron()\n",
    "perceptron.fit(train, train_labels)\n",
    "Y_pred = perceptron.predict(test)\n",
    "acc_perceptron = round(perceptron.score(train, train_labels) * 100, 2)\n",
    "acc_perceptron"
   ]
  },
  {
   "cell_type": "code",
   "execution_count": null,
   "id": "b2d8082e",
   "metadata": {},
   "outputs": [],
   "source": [
    "# Linear SVC\n",
    "linear_svc = LinearSVC()\n",
    "linear_svc.fit(train, train_labels)\n",
    "Y_pred = linear_svc.predict(test)\n",
    "acc_linear_svc = round(linear_svc.score(train, train_labels) * 100, 2)\n",
    "acc_linear_svc"
   ]
  },
  {
   "cell_type": "code",
   "execution_count": null,
   "id": "23295110",
   "metadata": {},
   "outputs": [],
   "source": [
    "# Stochastic Gradient Descent\n",
    "sgd = SGDClassifier()\n",
    "sgd.fit(train, train_labels)\n",
    "Y_pred = sgd.predict(test)\n",
    "acc_sgd = round(sgd.score(train, train_labels) * 100, 2)\n",
    "acc_sgd"
   ]
  },
  {
   "cell_type": "code",
   "execution_count": null,
   "id": "7ab8d70f",
   "metadata": {},
   "outputs": [],
   "source": [
    "# Random Forest\n",
    "random_forest = RandomForestClassifier(n_estimators=100)\n",
    "random_forest.fit(train, train_labels)\n",
    "Y_pred = random_forest.predict(test)\n",
    "random_forest.score(train, train_labels)\n",
    "acc_random_forest = round(random_forest.score(train, train_labels) * 100, 2)\n",
    "acc_random_forest"
   ]
  },
  {
   "cell_type": "code",
   "execution_count": null,
   "id": "38dd531e",
   "metadata": {},
   "outputs": [],
   "source": [
    "models = pd.DataFrame({\n",
    "    'Model': ['Support Vector Machines', 'KNN', 'Logistic Regression', \n",
    "              'Random Forest', 'Naive Bayes', 'Perceptron', \n",
    "              'Stochastic Gradient Decent', 'Linear SVC', \n",
    "              'Decision Tree'],\n",
    "    'Score': [acc_svc, acc_knn, acc_log, \n",
    "              acc_random_forest, acc_gaussian, acc_perceptron, \n",
    "              acc_sgd, acc_linear_svc, acc_decision_tree]})\n",
    "models.sort_values(by='Score', ascending=False)"
   ]
  },
  {
   "cell_type": "code",
   "execution_count": null,
   "id": "e31c8414",
   "metadata": {},
   "outputs": [],
   "source": []
  }
 ],
 "metadata": {
  "kernelspec": {
   "display_name": "Python 3 (ipykernel)",
   "language": "python",
   "name": "python3"
  },
  "language_info": {
   "codemirror_mode": {
    "name": "ipython",
    "version": 3
   },
   "file_extension": ".py",
   "mimetype": "text/x-python",
   "name": "python",
   "nbconvert_exporter": "python",
   "pygments_lexer": "ipython3",
   "version": "3.9.12"
  }
 },
 "nbformat": 4,
 "nbformat_minor": 5
}
